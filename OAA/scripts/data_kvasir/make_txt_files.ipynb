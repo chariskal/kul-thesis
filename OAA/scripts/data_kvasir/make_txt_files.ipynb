{
 "cells": [
  {
   "cell_type": "code",
   "execution_count": 1,
   "metadata": {},
   "outputs": [],
   "source": [
    "import os\n",
    "import random\n",
    "# os.chdir('/home/ckalavrytinos/github/')\n",
    "os.chdir('/home/charis/kul-thesis/')\n",
    "ROOT_DIR = 'kvasir-dataset-v2-new/'\n",
    "CLASSES_LIST = os.listdir(ROOT_DIR+'train')                     # different class img in diff directories, name is class\n",
    "CLASSES_LIST.sort()\n",
    "ANNOT_FOLDER_NAME = ROOT_DIR + \"masks\"           # only 'polyps' has seg annotations"
   ]
  },
  {
   "cell_type": "code",
   "execution_count": 2,
   "metadata": {},
   "outputs": [],
   "source": [
    "val_list = list(range(0,len(CLASSES_LIST)))             # value list for translating Class name to number\n",
    "cat_dict = dict(zip(CLASSES_LIST, val_list))            # create dictionary for translation"
   ]
  },
  {
   "cell_type": "code",
   "execution_count": 4,
   "metadata": {},
   "outputs": [],
   "source": [
    "list_of_paths_train = ['train/'+i for i in CLASSES_LIST]  # calculate the different paths for each class\n",
    "list_of_paths_val = ['test/'+i for i in CLASSES_LIST]  # calculate the different paths for each class"
   ]
  },
  {
   "cell_type": "code",
   "execution_count": 5,
   "metadata": {},
   "outputs": [
    {
     "data": {
      "text/plain": [
       "['train/dyed-lifted-polyps',\n",
       " 'train/dyed-resection-margins',\n",
       " 'train/esophagitis',\n",
       " 'train/normal-cecum',\n",
       " 'train/normal-pylorus',\n",
       " 'train/normal-z-line',\n",
       " 'train/polyps',\n",
       " 'train/ulcerative-colitis']"
      ]
     },
     "execution_count": 5,
     "metadata": {},
     "output_type": "execute_result"
    }
   ],
   "source": [
    "list_of_paths_train"
   ]
  },
  {
   "cell_type": "code",
   "execution_count": 6,
   "metadata": {},
   "outputs": [],
   "source": [
    "f_train = open(\"train.txt\",\"w+\")                    # open files for storing the lists\n",
    "\n",
    "for p in list_of_paths_train:\n",
    "    for f in sorted(os.listdir(ROOT_DIR + p)):\n",
    "        # print(f)\n",
    "        if f.endswith(\".jpg\"):\n",
    "            f_train.write(f\"{p}/{f} {cat_dict[p.split('/')[-1]]}\\n\")\n",
    "f_train.close()"
   ]
  },
  {
   "cell_type": "code",
   "execution_count": 7,
   "metadata": {},
   "outputs": [],
   "source": [
    "f_val = open(\"val.txt\",\"w+\")                    # open files for storing the lists\n",
    "\n",
    "for p in list_of_paths_val:\n",
    "    for f in sorted(os.listdir(ROOT_DIR + p)):\n",
    "        # print(f)\n",
    "        if f.endswith(\".jpg\"):\n",
    "            f_val.write(f\"{p}/{f} {cat_dict[p.split('/')[-1]]}\\n\")\n",
    "f_val.close()"
   ]
  },
  {
   "cell_type": "code",
   "execution_count": 8,
   "metadata": {},
   "outputs": [],
   "source": [
    "f_train_seg = open(\"train_seg.txt\",\"w+\")                    # open files for storing the lists\n",
    "\n",
    "for f in sorted(os.listdir(ROOT_DIR + 'train/polyps')):\n",
    "    # print(f)\n",
    "    if f.endswith(\".jpg\"):\n",
    "        f_train_seg.write(f'train/polyps/{f} masks/{f}\\n')\n",
    "f_train_seg.close()"
   ]
  },
  {
   "cell_type": "code",
   "execution_count": 9,
   "metadata": {},
   "outputs": [],
   "source": [
    "f_val_seg = open(\"val_seg.txt\",\"w+\")                    # open files for storing the lists\n",
    "\n",
    "for f in sorted(os.listdir(ROOT_DIR + 'test/polyps')):\n",
    "    # print(f)\n",
    "    if f.endswith(\".jpg\"):\n",
    "        f_val_seg.write(f'test/polyps/{f} masks/{f}\\n')\n",
    "f_val_seg.close()"
   ]
  }
 ],
 "metadata": {
  "interpreter": {
   "hash": "a277b6c68689dd8180022a35a6162240ca133d608bcf2ca16ace5cd7494cfe97"
  },
  "kernelspec": {
   "display_name": "Python 3.9.7 64-bit ('mai': conda)",
   "name": "python3"
  },
  "language_info": {
   "codemirror_mode": {
    "name": "ipython",
    "version": 3
   },
   "file_extension": ".py",
   "mimetype": "text/x-python",
   "name": "python",
   "nbconvert_exporter": "python",
   "pygments_lexer": "ipython3",
   "version": "3.9.7"
  },
  "orig_nbformat": 4
 },
 "nbformat": 4,
 "nbformat_minor": 2
}
